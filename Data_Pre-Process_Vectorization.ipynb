{
 "cells": [
  {
   "cell_type": "code",
   "execution_count": 19,
   "metadata": {},
   "outputs": [],
   "source": [
    "import pickle"
   ]
  },
  {
   "cell_type": "code",
   "execution_count": 1,
   "metadata": {
    "scrolled": true
   },
   "outputs": [
    {
     "name": "stdout",
     "output_type": "stream",
     "text": [
      "The shape: 663000 x 3\n"
     ]
    },
    {
     "data": {
      "text/html": [
       "<div>\n",
       "<style scoped>\n",
       "    .dataframe tbody tr th:only-of-type {\n",
       "        vertical-align: middle;\n",
       "    }\n",
       "\n",
       "    .dataframe tbody tr th {\n",
       "        vertical-align: top;\n",
       "    }\n",
       "\n",
       "    .dataframe thead th {\n",
       "        text-align: right;\n",
       "    }\n",
       "</style>\n",
       "<table border=\"1\" class=\"dataframe\">\n",
       "  <thead>\n",
       "    <tr style=\"text-align: right;\">\n",
       "      <th></th>\n",
       "      <th>Line Number</th>\n",
       "      <th>Company Name</th>\n",
       "      <th>Company CIK Key</th>\n",
       "    </tr>\n",
       "  </thead>\n",
       "  <tbody>\n",
       "    <tr>\n",
       "      <th>0</th>\n",
       "      <td>1</td>\n",
       "      <td>!J INC</td>\n",
       "      <td>1438823</td>\n",
       "    </tr>\n",
       "    <tr>\n",
       "      <th>1</th>\n",
       "      <td>2</td>\n",
       "      <td>#1 A LIFESAFER HOLDINGS, INC.</td>\n",
       "      <td>1509607</td>\n",
       "    </tr>\n",
       "    <tr>\n",
       "      <th>2</th>\n",
       "      <td>3</td>\n",
       "      <td>#1 ARIZONA DISCOUNT PROPERTIES LLC</td>\n",
       "      <td>1457512</td>\n",
       "    </tr>\n",
       "    <tr>\n",
       "      <th>3</th>\n",
       "      <td>4</td>\n",
       "      <td>#1 PAINTBALL CORP</td>\n",
       "      <td>1433777</td>\n",
       "    </tr>\n",
       "    <tr>\n",
       "      <th>4</th>\n",
       "      <td>5</td>\n",
       "      <td>$ LLC</td>\n",
       "      <td>1427189</td>\n",
       "    </tr>\n",
       "  </tbody>\n",
       "</table>\n",
       "</div>"
      ],
      "text/plain": [
       "   Line Number                        Company Name  Company CIK Key\n",
       "0  1            !J INC                              1438823        \n",
       "1  2            #1 A LIFESAFER HOLDINGS, INC.       1509607        \n",
       "2  3            #1 ARIZONA DISCOUNT PROPERTIES LLC  1457512        \n",
       "3  4            #1 PAINTBALL CORP                   1433777        \n",
       "4  5            $ LLC                               1427189        "
      ]
     },
     "execution_count": 1,
     "metadata": {},
     "output_type": "execute_result"
    }
   ],
   "source": [
    "import pandas as pd\n",
    "\n",
    "pd.set_option('display.max_colwidth', -1)\n",
    "names =  pd.read_csv('sec__edgar_company_info.csv')\n",
    "print('The shape: %d x %d' % names.shape)\n",
    "names.head()"
   ]
  },
  {
   "cell_type": "code",
   "execution_count": 2,
   "metadata": {},
   "outputs": [],
   "source": [
    "from ftfy import fix_text\n",
    "import re"
   ]
  },
  {
   "cell_type": "code",
   "execution_count": 3,
   "metadata": {},
   "outputs": [
    {
     "name": "stdout",
     "output_type": "stream",
     "text": [
      "All 3-grams in \"$ LLC BD\":\n",
      "[' $ ', '$ L', ' Ll', 'Llc', 'lcb', 'cbd', 'bd ']\n"
     ]
    }
   ],
   "source": [
    "def ngrams(string, n=3):\n",
    "    string = fix_text(string) # fix text\n",
    "    string = string.encode(\"ascii\", errors=\"ignore\").decode() #remove non ascii chars\n",
    "    string = string.lower()\n",
    "    chars_to_remove = [\")\",\"(\",\".\",\"|\",\"[\",\"]\",\"{\",\"}\",\"'\"]\n",
    "    rx = '[' + re.escape(''.join(chars_to_remove)) + ']'\n",
    "    string = re.sub(rx, '', string)\n",
    "    string = string.replace('&', 'and')\n",
    "    string = string.replace(',', ' ')\n",
    "    string = string.replace('-', ' ')\n",
    "    string = string.title() # normalise case - capital at start of each word\n",
    "    string = re.sub(' +',' ',string).strip() # get rid of multiple spaces and replace with a single\n",
    "    string = ' '+ string +' ' # pad names for ngrams...\n",
    "    string = re.sub(r'[,-./]|\\sbd',r'', string)\n",
    "    string = re.sub(r'[,-./]|\\sbd',r'', string)\n",
    "    ngrams = zip(*[string[i:] for i in range(n)])\n",
    "    return [''.join(ngram) for ngram in ngrams]\n",
    "\n",
    "print('All 3-grams in \"$ LLC BD\":')\n",
    "print(ngrams('$ LLC.BD'))"
   ]
  },
  {
   "cell_type": "code",
   "execution_count": 4,
   "metadata": {
    "pixiedust": {
     "displayParams": {}
    }
   },
   "outputs": [],
   "source": [
    "from sklearn.feature_extraction.text import TfidfVectorizer\n",
    "\n",
    "company_names = names['Company Name']\n",
    "vectorizer = TfidfVectorizer(min_df=1, analyzer=ngrams)\n",
    "tf_idf_matrix = vectorizer.fit_transform(company_names)"
   ]
  },
  {
   "cell_type": "code",
   "execution_count": 5,
   "metadata": {},
   "outputs": [
    {
     "data": {
      "text/plain": [
       "[' !J', '!J ', 'J I', ' In', 'Inc', 'nc ']"
      ]
     },
     "execution_count": 5,
     "metadata": {},
     "output_type": "execute_result"
    }
   ],
   "source": [
    "ngrams('!J INC')"
   ]
  },
  {
   "cell_type": "code",
   "execution_count": 6,
   "metadata": {},
   "outputs": [],
   "source": [
    "import numpy as np\n",
    "from scipy.sparse import csr_matrix\n",
    "import sparse_dot_topn.sparse_dot_topn as ct\n",
    "\n",
    "def awesome_cossim_top(A, B, ntop, lower_bound=0):\n",
    "    # force A and B as a CSR matrix.\n",
    "    # If they have already been CSR, there is no overhead\n",
    "    A = A.tocsr()\n",
    "    B = B.tocsr()\n",
    "    M, _ = A.shape\n",
    "    _, N = B.shape\n",
    " \n",
    "    idx_dtype = np.int32\n",
    " \n",
    "    nnz_max = M*ntop\n",
    " \n",
    "    indptr = np.zeros(M+1, dtype=idx_dtype)\n",
    "    indices = np.zeros(nnz_max, dtype=idx_dtype)\n",
    "    data = np.zeros(nnz_max, dtype=A.dtype)\n",
    "\n",
    "    ct.sparse_dot_topn(\n",
    "        M, N, np.asarray(A.indptr, dtype=idx_dtype),\n",
    "        np.asarray(A.indices, dtype=idx_dtype),\n",
    "        A.data,\n",
    "        np.asarray(B.indptr, dtype=idx_dtype),\n",
    "        np.asarray(B.indices, dtype=idx_dtype),\n",
    "        B.data,\n",
    "        ntop,\n",
    "        lower_bound,\n",
    "        indptr, indices, data)\n",
    "\n",
    "    return csr_matrix((data,indices,indptr),shape=(M,N))"
   ]
  },
  {
   "cell_type": "code",
   "execution_count": 7,
   "metadata": {},
   "outputs": [
    {
     "name": "stdout",
     "output_type": "stream",
     "text": [
      "SELFTIMED: 4370.280823707581\n"
     ]
    }
   ],
   "source": [
    "import time\n",
    "t1 = time.time()\n",
    "matches = awesome_cossim_top(tf_idf_matrix, tf_idf_matrix.transpose(), 10, 0.8)\n",
    "t = time.time()-t1\n",
    "print(\"SELFTIMED:\", t)"
   ]
  },
  {
   "cell_type": "code",
   "execution_count": 8,
   "metadata": {},
   "outputs": [
    {
     "name": "stdout",
     "output_type": "stream",
     "text": [
      "(663000, 37119)\n"
     ]
    }
   ],
   "source": [
    "print(tf_idf_matrix.shape)"
   ]
  },
  {
   "cell_type": "code",
   "execution_count": 9,
   "metadata": {},
   "outputs": [],
   "source": [
    "dd=tf_idf_matrix.transpose()"
   ]
  },
  {
   "cell_type": "code",
   "execution_count": 10,
   "metadata": {},
   "outputs": [
    {
     "name": "stdout",
     "output_type": "stream",
     "text": [
      "(37119, 663000)\n"
     ]
    }
   ],
   "source": [
    "print(dd.shape)"
   ]
  },
  {
   "cell_type": "code",
   "execution_count": 11,
   "metadata": {},
   "outputs": [
    {
     "name": "stdout",
     "output_type": "stream",
     "text": [
      "(663000, 663000)\n"
     ]
    }
   ],
   "source": [
    "print(matches.shape)\n"
   ]
  },
  {
   "cell_type": "code",
   "execution_count": 29,
   "metadata": {},
   "outputs": [],
   "source": [
    "#print(company_names)"
   ]
  },
  {
   "cell_type": "code",
   "execution_count": 12,
   "metadata": {},
   "outputs": [],
   "source": [
    "def get_matches_df(sparse_matrix, name_vector, top=100):\n",
    "    non_zeros = sparse_matrix.nonzero()\n",
    "    \n",
    "    sparserows = non_zeros[0]\n",
    "    sparsecols = non_zeros[1]\n",
    "    \n",
    "    if top:\n",
    "        nr_matches = top\n",
    "    else:\n",
    "        nr_matches = sparsecols.size\n",
    "    \n",
    "    left_side = np.empty([nr_matches], dtype=object)\n",
    "    right_side = np.empty([nr_matches], dtype=object)\n",
    "    similairity = np.zeros(nr_matches)\n",
    "    \n",
    "    for index in range(0, nr_matches):\n",
    "        left_side[index] = name_vector[sparserows[index]]\n",
    "        right_side[index] = name_vector[sparsecols[index]]\n",
    "        similairity[index] = sparse_matrix.data[index]\n",
    "    \n",
    "    return pd.DataFrame({'left_side': left_side,\n",
    "                          'right_side': right_side,\n",
    "                           'similairity': similairity})"
   ]
  },
  {
   "cell_type": "code",
   "execution_count": 13,
   "metadata": {
    "scrolled": true
   },
   "outputs": [
    {
     "data": {
      "text/html": [
       "<div>\n",
       "<style scoped>\n",
       "    .dataframe tbody tr th:only-of-type {\n",
       "        vertical-align: middle;\n",
       "    }\n",
       "\n",
       "    .dataframe tbody tr th {\n",
       "        vertical-align: top;\n",
       "    }\n",
       "\n",
       "    .dataframe thead th {\n",
       "        text-align: right;\n",
       "    }\n",
       "</style>\n",
       "<table border=\"1\" class=\"dataframe\">\n",
       "  <thead>\n",
       "    <tr style=\"text-align: right;\">\n",
       "      <th></th>\n",
       "      <th>left_side</th>\n",
       "      <th>right_side</th>\n",
       "      <th>similairity</th>\n",
       "    </tr>\n",
       "  </thead>\n",
       "  <tbody>\n",
       "    <tr>\n",
       "      <th>6</th>\n",
       "      <td>&amp; S MEDIA GROUP LLC</td>\n",
       "      <td>HH &amp; S MEDIA GROUP LLC</td>\n",
       "      <td>0.834766</td>\n",
       "    </tr>\n",
       "    <tr>\n",
       "      <th>9</th>\n",
       "      <td>'MKTG, INC.'</td>\n",
       "      <td>MKTG SERVICES INC</td>\n",
       "      <td>0.803908</td>\n",
       "    </tr>\n",
       "    <tr>\n",
       "      <th>12</th>\n",
       "      <td>(OURCROWD INVESTMENT IN MST) L.P.</td>\n",
       "      <td>OURCROWD (INVESTMENT IN MST - II) L.P.</td>\n",
       "      <td>0.951280</td>\n",
       "    </tr>\n",
       "    <tr>\n",
       "      <th>13</th>\n",
       "      <td>(OURCROWD INVESTMENT IN MST) L.P.</td>\n",
       "      <td>OURCROWD (INVESTMENT IN MST - III) LP</td>\n",
       "      <td>0.939638</td>\n",
       "    </tr>\n",
       "    <tr>\n",
       "      <th>170</th>\n",
       "      <td>1 800 MUTUALS ADVISOR SERIES</td>\n",
       "      <td>1 800 MUTUALS ADVISORS SERIES</td>\n",
       "      <td>0.947853</td>\n",
       "    </tr>\n",
       "  </tbody>\n",
       "</table>\n",
       "</div>"
      ],
      "text/plain": [
       "                             left_side  \\\n",
       "6    & S MEDIA GROUP LLC                 \n",
       "9    'MKTG, INC.'                        \n",
       "12   (OURCROWD INVESTMENT IN MST) L.P.   \n",
       "13   (OURCROWD INVESTMENT IN MST) L.P.   \n",
       "170  1 800 MUTUALS ADVISOR SERIES        \n",
       "\n",
       "                                 right_side  similairity  \n",
       "6    HH & S MEDIA GROUP LLC                  0.834766     \n",
       "9    MKTG SERVICES INC                       0.803908     \n",
       "12   OURCROWD (INVESTMENT IN MST - II) L.P.  0.951280     \n",
       "13   OURCROWD (INVESTMENT IN MST - III) LP   0.939638     \n",
       "170  1 800 MUTUALS ADVISORS SERIES           0.947853     "
      ]
     },
     "execution_count": 13,
     "metadata": {},
     "output_type": "execute_result"
    }
   ],
   "source": [
    "matches_df = get_matches_df(matches, company_names,top=10000 )\n",
    "matches_df = matches_df[matches_df['similairity'] < 0.99999] # Remove all exact matches\n",
    "matches_df.head(5)\n"
   ]
  },
  {
   "cell_type": "code",
   "execution_count": 14,
   "metadata": {},
   "outputs": [
    {
     "data": {
      "text/plain": [
       "(2605, 3)"
      ]
     },
     "execution_count": 14,
     "metadata": {},
     "output_type": "execute_result"
    }
   ],
   "source": [
    "matches_df.shape"
   ]
  },
  {
   "cell_type": "code",
   "execution_count": 15,
   "metadata": {},
   "outputs": [
    {
     "data": {
      "text/html": [
       "<div>\n",
       "<style scoped>\n",
       "    .dataframe tbody tr th:only-of-type {\n",
       "        vertical-align: middle;\n",
       "    }\n",
       "\n",
       "    .dataframe tbody tr th {\n",
       "        vertical-align: top;\n",
       "    }\n",
       "\n",
       "    .dataframe thead th {\n",
       "        text-align: right;\n",
       "    }\n",
       "</style>\n",
       "<table border=\"1\" class=\"dataframe\">\n",
       "  <thead>\n",
       "    <tr style=\"text-align: right;\">\n",
       "      <th></th>\n",
       "      <th>left_side</th>\n",
       "      <th>right_side</th>\n",
       "      <th>similairity</th>\n",
       "    </tr>\n",
       "  </thead>\n",
       "  <tbody>\n",
       "    <tr>\n",
       "      <th>4728</th>\n",
       "      <td>60 EAST 42ND STREET ASSOCIATES</td>\n",
       "      <td>60 EAST 42ND STREET ASSOCIATES L.L.C.</td>\n",
       "      <td>0.986900</td>\n",
       "    </tr>\n",
       "    <tr>\n",
       "      <th>4726</th>\n",
       "      <td>60 EAST 42ND STREET ASSOCIATES L.L.C.</td>\n",
       "      <td>60 EAST 42ND STREET ASSOCIATES</td>\n",
       "      <td>0.986900</td>\n",
       "    </tr>\n",
       "    <tr>\n",
       "      <th>2682</th>\n",
       "      <td>250 WEST 57TH ST ASSOCIATES L.L.C.</td>\n",
       "      <td>250 WEST 57TH ST ASSOCIATES</td>\n",
       "      <td>0.986289</td>\n",
       "    </tr>\n",
       "    <tr>\n",
       "      <th>2684</th>\n",
       "      <td>250 WEST 57TH ST ASSOCIATES</td>\n",
       "      <td>250 WEST 57TH ST ASSOCIATES L.L.C.</td>\n",
       "      <td>0.986289</td>\n",
       "    </tr>\n",
       "    <tr>\n",
       "      <th>1266</th>\n",
       "      <td>1798 CONSUMER EQUITY LONG/SHORT FUND LP</td>\n",
       "      <td>1798 CONSUMER EQUITY LONG/SHORT FUND</td>\n",
       "      <td>0.985306</td>\n",
       "    </tr>\n",
       "    <tr>\n",
       "      <th>1268</th>\n",
       "      <td>1798 CONSUMER EQUITY LONG/SHORT FUND</td>\n",
       "      <td>1798 CONSUMER EQUITY LONG/SHORT FUND LP</td>\n",
       "      <td>0.985306</td>\n",
       "    </tr>\n",
       "    <tr>\n",
       "      <th>1870</th>\n",
       "      <td>2006 A-D DRILLING FUND XIII JOINT VENTURE</td>\n",
       "      <td>2006 A-D DRILLING FUND XII JOINT VENTURE</td>\n",
       "      <td>0.981423</td>\n",
       "    </tr>\n",
       "    <tr>\n",
       "      <th>1864</th>\n",
       "      <td>2006 A-D DRILLING FUND XII JOINT VENTURE</td>\n",
       "      <td>2006 A-D DRILLING FUND XIII JOINT VENTURE</td>\n",
       "      <td>0.981423</td>\n",
       "    </tr>\n",
       "    <tr>\n",
       "      <th>7585</th>\n",
       "      <td>AAPCF III SERIES OF HCP PRIVATE EQUITY INVESTORS, LLC</td>\n",
       "      <td>AAPCF II SERIES OF HCP PRIVATE EQUITY INVESTORS, LLC</td>\n",
       "      <td>0.978797</td>\n",
       "    </tr>\n",
       "    <tr>\n",
       "      <th>7583</th>\n",
       "      <td>AAPCF II SERIES OF HCP PRIVATE EQUITY INVESTORS, LLC</td>\n",
       "      <td>AAPCF III SERIES OF HCP PRIVATE EQUITY INVESTORS, LLC</td>\n",
       "      <td>0.978797</td>\n",
       "    </tr>\n",
       "    <tr>\n",
       "      <th>5533</th>\n",
       "      <td>99 CENTS ONLY STORES LLC</td>\n",
       "      <td>99 CENTS ONLY STORES</td>\n",
       "      <td>0.978192</td>\n",
       "    </tr>\n",
       "    <tr>\n",
       "      <th>5534</th>\n",
       "      <td>99 CENTS ONLY STORES LLC</td>\n",
       "      <td>99 CENTS ONLY STORES</td>\n",
       "      <td>0.978192</td>\n",
       "    </tr>\n",
       "    <tr>\n",
       "      <th>5549</th>\n",
       "      <td>99 CENTS ONLY STORES</td>\n",
       "      <td>99 CENTS ONLY STORES LLC</td>\n",
       "      <td>0.978192</td>\n",
       "    </tr>\n",
       "    <tr>\n",
       "      <th>5544</th>\n",
       "      <td>99 CENTS ONLY STORES</td>\n",
       "      <td>99 CENTS ONLY STORES LLC</td>\n",
       "      <td>0.978192</td>\n",
       "    </tr>\n",
       "    <tr>\n",
       "      <th>7303</th>\n",
       "      <td>AACP CHINA GROWTH INVESTORS VII, L.P.</td>\n",
       "      <td>AACP CHINA GROWTH INVESTORS VIII, L.P.</td>\n",
       "      <td>0.977751</td>\n",
       "    </tr>\n",
       "    <tr>\n",
       "      <th>7310</th>\n",
       "      <td>AACP CHINA GROWTH INVESTORS VIII, L.P.</td>\n",
       "      <td>AACP CHINA GROWTH INVESTORS VII, L.P.</td>\n",
       "      <td>0.977751</td>\n",
       "    </tr>\n",
       "    <tr>\n",
       "      <th>9155</th>\n",
       "      <td>ABN AMRO CAPITAL FUNDING TRUST VIII</td>\n",
       "      <td>ABN AMRO CAPITAL FUNDING TRUST VII</td>\n",
       "      <td>0.975599</td>\n",
       "    </tr>\n",
       "    <tr>\n",
       "      <th>9145</th>\n",
       "      <td>ABN AMRO CAPITAL FUNDING TRUST VII</td>\n",
       "      <td>ABN AMRO CAPITAL FUNDING TRUST VIII</td>\n",
       "      <td>0.975599</td>\n",
       "    </tr>\n",
       "    <tr>\n",
       "      <th>9085</th>\n",
       "      <td>ABN AMRO CAPITAL FUNDING LLC VII</td>\n",
       "      <td>ABN AMRO CAPITAL FUNDING LLC VIII</td>\n",
       "      <td>0.974730</td>\n",
       "    </tr>\n",
       "    <tr>\n",
       "      <th>9094</th>\n",
       "      <td>ABN AMRO CAPITAL FUNDING LLC VIII</td>\n",
       "      <td>ABN AMRO CAPITAL FUNDING LLC VII</td>\n",
       "      <td>0.974730</td>\n",
       "    </tr>\n",
       "  </tbody>\n",
       "</table>\n",
       "</div>"
      ],
      "text/plain": [
       "                                                  left_side  \\\n",
       "4728  60 EAST 42ND STREET ASSOCIATES                          \n",
       "4726  60 EAST 42ND STREET ASSOCIATES L.L.C.                   \n",
       "2682  250 WEST 57TH ST ASSOCIATES L.L.C.                      \n",
       "2684  250 WEST 57TH ST ASSOCIATES                             \n",
       "1266  1798 CONSUMER EQUITY LONG/SHORT FUND LP                 \n",
       "1268  1798 CONSUMER EQUITY LONG/SHORT FUND                    \n",
       "1870  2006 A-D DRILLING FUND XIII JOINT VENTURE               \n",
       "1864  2006 A-D DRILLING FUND XII JOINT VENTURE                \n",
       "7585  AAPCF III SERIES OF HCP PRIVATE EQUITY INVESTORS, LLC   \n",
       "7583  AAPCF II SERIES OF HCP PRIVATE EQUITY INVESTORS, LLC    \n",
       "5533  99 CENTS ONLY STORES LLC                                \n",
       "5534  99 CENTS ONLY STORES LLC                                \n",
       "5549  99 CENTS ONLY STORES                                    \n",
       "5544  99 CENTS ONLY STORES                                    \n",
       "7303  AACP CHINA GROWTH INVESTORS VII, L.P.                   \n",
       "7310  AACP CHINA GROWTH INVESTORS VIII, L.P.                  \n",
       "9155  ABN AMRO CAPITAL FUNDING TRUST VIII                     \n",
       "9145  ABN AMRO CAPITAL FUNDING TRUST VII                      \n",
       "9085  ABN AMRO CAPITAL FUNDING LLC VII                        \n",
       "9094  ABN AMRO CAPITAL FUNDING LLC VIII                       \n",
       "\n",
       "                                                 right_side  similairity  \n",
       "4728  60 EAST 42ND STREET ASSOCIATES L.L.C.                  0.986900     \n",
       "4726  60 EAST 42ND STREET ASSOCIATES                         0.986900     \n",
       "2682  250 WEST 57TH ST ASSOCIATES                            0.986289     \n",
       "2684  250 WEST 57TH ST ASSOCIATES L.L.C.                     0.986289     \n",
       "1266  1798 CONSUMER EQUITY LONG/SHORT FUND                   0.985306     \n",
       "1268  1798 CONSUMER EQUITY LONG/SHORT FUND LP                0.985306     \n",
       "1870  2006 A-D DRILLING FUND XII JOINT VENTURE               0.981423     \n",
       "1864  2006 A-D DRILLING FUND XIII JOINT VENTURE              0.981423     \n",
       "7585  AAPCF II SERIES OF HCP PRIVATE EQUITY INVESTORS, LLC   0.978797     \n",
       "7583  AAPCF III SERIES OF HCP PRIVATE EQUITY INVESTORS, LLC  0.978797     \n",
       "5533  99 CENTS ONLY STORES                                   0.978192     \n",
       "5534  99 CENTS ONLY STORES                                   0.978192     \n",
       "5549  99 CENTS ONLY STORES LLC                               0.978192     \n",
       "5544  99 CENTS ONLY STORES LLC                               0.978192     \n",
       "7303  AACP CHINA GROWTH INVESTORS VIII, L.P.                 0.977751     \n",
       "7310  AACP CHINA GROWTH INVESTORS VII, L.P.                  0.977751     \n",
       "9155  ABN AMRO CAPITAL FUNDING TRUST VII                     0.975599     \n",
       "9145  ABN AMRO CAPITAL FUNDING TRUST VIII                    0.975599     \n",
       "9085  ABN AMRO CAPITAL FUNDING LLC VIII                      0.974730     \n",
       "9094  ABN AMRO CAPITAL FUNDING LLC VII                       0.974730     "
      ]
     },
     "execution_count": 15,
     "metadata": {},
     "output_type": "execute_result"
    }
   ],
   "source": [
    "matches_df.sort_values(['similairity'], ascending=False).head(20)"
   ]
  },
  {
   "cell_type": "code",
   "execution_count": 16,
   "metadata": {},
   "outputs": [
    {
     "data": {
      "text/html": [
       "<div>\n",
       "<style scoped>\n",
       "    .dataframe tbody tr th:only-of-type {\n",
       "        vertical-align: middle;\n",
       "    }\n",
       "\n",
       "    .dataframe tbody tr th {\n",
       "        vertical-align: top;\n",
       "    }\n",
       "\n",
       "    .dataframe thead th {\n",
       "        text-align: right;\n",
       "    }\n",
       "</style>\n",
       "<table border=\"1\" class=\"dataframe\">\n",
       "  <thead>\n",
       "    <tr style=\"text-align: right;\">\n",
       "      <th></th>\n",
       "      <th>left_side</th>\n",
       "      <th>right_side</th>\n",
       "      <th>similairity</th>\n",
       "    </tr>\n",
       "  </thead>\n",
       "  <tbody>\n",
       "    <tr>\n",
       "      <th>7448</th>\n",
       "      <td>AAG HOLDING CO INC</td>\n",
       "      <td>AAG HOLDING I, LLC</td>\n",
       "      <td>0.800815</td>\n",
       "    </tr>\n",
       "    <tr>\n",
       "      <th>7450</th>\n",
       "      <td>AAG HOLDING I, LLC</td>\n",
       "      <td>AAG HOLDING CO INC</td>\n",
       "      <td>0.800815</td>\n",
       "    </tr>\n",
       "    <tr>\n",
       "      <th>1158</th>\n",
       "      <td>1740 TRUST #40-AD</td>\n",
       "      <td>1740 TRUST #40-LOCUST</td>\n",
       "      <td>0.800784</td>\n",
       "    </tr>\n",
       "    <tr>\n",
       "      <th>1207</th>\n",
       "      <td>1740 TRUST #40-LOCUST</td>\n",
       "      <td>1740 TRUST #40-AD</td>\n",
       "      <td>0.800784</td>\n",
       "    </tr>\n",
       "    <tr>\n",
       "      <th>2392</th>\n",
       "      <td>21ST CENTURY ONCOLOGY OF ALABAMA, LLC</td>\n",
       "      <td>21ST CENTURY ONCOLOGY, LLC</td>\n",
       "      <td>0.800770</td>\n",
       "    </tr>\n",
       "    <tr>\n",
       "      <th>2412</th>\n",
       "      <td>21ST CENTURY ONCOLOGY, LLC</td>\n",
       "      <td>21ST CENTURY ONCOLOGY OF ALABAMA, LLC</td>\n",
       "      <td>0.800770</td>\n",
       "    </tr>\n",
       "    <tr>\n",
       "      <th>8894</th>\n",
       "      <td>ABILITY INC.</td>\n",
       "      <td>ABILITY COM INC</td>\n",
       "      <td>0.800750</td>\n",
       "    </tr>\n",
       "    <tr>\n",
       "      <th>8891</th>\n",
       "      <td>ABILITY COM INC</td>\n",
       "      <td>ABILITY INC.</td>\n",
       "      <td>0.800750</td>\n",
       "    </tr>\n",
       "    <tr>\n",
       "      <th>9092</th>\n",
       "      <td>ABN AMRO CAPITAL FUNDING LLC VII</td>\n",
       "      <td>ABN AMRO CAPITAL FUNDING TRUST I</td>\n",
       "      <td>0.800743</td>\n",
       "    </tr>\n",
       "    <tr>\n",
       "      <th>9109</th>\n",
       "      <td>ABN AMRO CAPITAL FUNDING TRUST I</td>\n",
       "      <td>ABN AMRO CAPITAL FUNDING LLC VII</td>\n",
       "      <td>0.800743</td>\n",
       "    </tr>\n",
       "    <tr>\n",
       "      <th>3266</th>\n",
       "      <td>360NETWORKS MICHIGAN LLC</td>\n",
       "      <td>360NETWORKS INC</td>\n",
       "      <td>0.800719</td>\n",
       "    </tr>\n",
       "    <tr>\n",
       "      <th>3248</th>\n",
       "      <td>360NETWORKS INC</td>\n",
       "      <td>360NETWORKS MICHIGAN LLC</td>\n",
       "      <td>0.800719</td>\n",
       "    </tr>\n",
       "    <tr>\n",
       "      <th>8047</th>\n",
       "      <td>ABBOT JOHN</td>\n",
       "      <td>JOHN ABBOTT</td>\n",
       "      <td>0.800686</td>\n",
       "    </tr>\n",
       "    <tr>\n",
       "      <th>5734</th>\n",
       "      <td>A&amp;B CAPITAL CORP</td>\n",
       "      <td>S&amp;B CAPITAL CORP</td>\n",
       "      <td>0.800659</td>\n",
       "    </tr>\n",
       "    <tr>\n",
       "      <th>8776</th>\n",
       "      <td>ABFC ASSET-BACKED CERTIFICATES SERIES 2004-OPT2</td>\n",
       "      <td>ASSET BACKED FUNDING CORP. ABFC ASSET BACKED CERTIFICATES SERIES 2004-OPT3</td>\n",
       "      <td>0.800364</td>\n",
       "    </tr>\n",
       "    <tr>\n",
       "      <th>3208</th>\n",
       "      <td>360 ENERGY OPPORTUNITY FUND, LP</td>\n",
       "      <td>ENERGY OPPORTUNITY FUND L.P.</td>\n",
       "      <td>0.800308</td>\n",
       "    </tr>\n",
       "    <tr>\n",
       "      <th>8660</th>\n",
       "      <td>ABERDEEN GLOBAL HIGH YIELD FUND, INC.</td>\n",
       "      <td>GLOBAL HIGH YIELD FUND INC</td>\n",
       "      <td>0.800211</td>\n",
       "    </tr>\n",
       "    <tr>\n",
       "      <th>3317</th>\n",
       "      <td>3770 LLC</td>\n",
       "      <td>FT 3770</td>\n",
       "      <td>0.800064</td>\n",
       "    </tr>\n",
       "    <tr>\n",
       "      <th>7180</th>\n",
       "      <td>A4 MANUFACTURING &amp; ENGINEERING CORP</td>\n",
       "      <td>PENN ENGINEERING &amp; MANUFACTURING CORP</td>\n",
       "      <td>0.800051</td>\n",
       "    </tr>\n",
       "    <tr>\n",
       "      <th>3222</th>\n",
       "      <td>360 SPORTS, INC.</td>\n",
       "      <td>TEAM 360 SPORTS, INC.</td>\n",
       "      <td>0.800012</td>\n",
       "    </tr>\n",
       "  </tbody>\n",
       "</table>\n",
       "</div>"
      ],
      "text/plain": [
       "                                            left_side  \\\n",
       "7448  AAG HOLDING CO INC                                \n",
       "7450  AAG HOLDING I, LLC                                \n",
       "1158  1740 TRUST #40-AD                                 \n",
       "1207  1740 TRUST #40-LOCUST                             \n",
       "2392  21ST CENTURY ONCOLOGY OF ALABAMA, LLC             \n",
       "2412  21ST CENTURY ONCOLOGY, LLC                        \n",
       "8894  ABILITY INC.                                      \n",
       "8891  ABILITY COM INC                                   \n",
       "9092  ABN AMRO CAPITAL FUNDING LLC VII                  \n",
       "9109  ABN AMRO CAPITAL FUNDING TRUST I                  \n",
       "3266  360NETWORKS MICHIGAN LLC                          \n",
       "3248  360NETWORKS INC                                   \n",
       "8047  ABBOT JOHN                                        \n",
       "5734  A&B CAPITAL CORP                                  \n",
       "8776  ABFC ASSET-BACKED CERTIFICATES SERIES 2004-OPT2   \n",
       "3208  360 ENERGY OPPORTUNITY FUND, LP                   \n",
       "8660  ABERDEEN GLOBAL HIGH YIELD FUND, INC.             \n",
       "3317  3770 LLC                                          \n",
       "7180  A4 MANUFACTURING & ENGINEERING CORP               \n",
       "3222  360 SPORTS, INC.                                  \n",
       "\n",
       "                                                                      right_side  \\\n",
       "7448  AAG HOLDING I, LLC                                                           \n",
       "7450  AAG HOLDING CO INC                                                           \n",
       "1158  1740 TRUST #40-LOCUST                                                        \n",
       "1207  1740 TRUST #40-AD                                                            \n",
       "2392  21ST CENTURY ONCOLOGY, LLC                                                   \n",
       "2412  21ST CENTURY ONCOLOGY OF ALABAMA, LLC                                        \n",
       "8894  ABILITY COM INC                                                              \n",
       "8891  ABILITY INC.                                                                 \n",
       "9092  ABN AMRO CAPITAL FUNDING TRUST I                                             \n",
       "9109  ABN AMRO CAPITAL FUNDING LLC VII                                             \n",
       "3266  360NETWORKS INC                                                              \n",
       "3248  360NETWORKS MICHIGAN LLC                                                     \n",
       "8047  JOHN ABBOTT                                                                  \n",
       "5734  S&B CAPITAL CORP                                                             \n",
       "8776  ASSET BACKED FUNDING CORP. ABFC ASSET BACKED CERTIFICATES SERIES 2004-OPT3   \n",
       "3208  ENERGY OPPORTUNITY FUND L.P.                                                 \n",
       "8660  GLOBAL HIGH YIELD FUND INC                                                   \n",
       "3317  FT 3770                                                                      \n",
       "7180  PENN ENGINEERING & MANUFACTURING CORP                                        \n",
       "3222  TEAM 360 SPORTS, INC.                                                        \n",
       "\n",
       "      similairity  \n",
       "7448  0.800815     \n",
       "7450  0.800815     \n",
       "1158  0.800784     \n",
       "1207  0.800784     \n",
       "2392  0.800770     \n",
       "2412  0.800770     \n",
       "8894  0.800750     \n",
       "8891  0.800750     \n",
       "9092  0.800743     \n",
       "9109  0.800743     \n",
       "3266  0.800719     \n",
       "3248  0.800719     \n",
       "8047  0.800686     \n",
       "5734  0.800659     \n",
       "8776  0.800364     \n",
       "3208  0.800308     \n",
       "8660  0.800211     \n",
       "3317  0.800064     \n",
       "7180  0.800051     \n",
       "3222  0.800012     "
      ]
     },
     "execution_count": 16,
     "metadata": {},
     "output_type": "execute_result"
    }
   ],
   "source": [
    "matches_df.sort_values(['similairity'], ascending=False).tail(20)"
   ]
  },
  {
   "cell_type": "code",
   "execution_count": 17,
   "metadata": {},
   "outputs": [
    {
     "data": {
      "text/plain": [
       "(2605, 3)"
      ]
     },
     "execution_count": 17,
     "metadata": {},
     "output_type": "execute_result"
    }
   ],
   "source": [
    "matches_df.shape"
   ]
  },
  {
   "cell_type": "code",
   "execution_count": 20,
   "metadata": {},
   "outputs": [],
   "source": [
    "with open('matched.pickle', 'wb') as f:\n",
    "    pickle.dump(matches_df, f)"
   ]
  }
 ],
 "metadata": {
  "kernelspec": {
   "display_name": "Python 3",
   "language": "python",
   "name": "python3"
  },
  "language_info": {
   "codemirror_mode": {
    "name": "ipython",
    "version": 3
   },
   "file_extension": ".py",
   "mimetype": "text/x-python",
   "name": "python",
   "nbconvert_exporter": "python",
   "pygments_lexer": "ipython3",
   "version": "3.7.1"
  }
 },
 "nbformat": 4,
 "nbformat_minor": 2
}
